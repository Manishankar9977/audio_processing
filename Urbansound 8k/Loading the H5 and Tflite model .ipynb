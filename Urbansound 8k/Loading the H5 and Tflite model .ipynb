{
 "cells": [
  {
   "cell_type": "code",
   "execution_count": 2,
   "metadata": {},
   "outputs": [],
   "source": [
    "import numpy as np\n",
    "import tensorflow as tf\n",
    "\n",
    "\n",
    "from time import time\n",
    "from matplotlib import pyplot as plt\n",
    "import os"
   ]
  },
  {
   "cell_type": "code",
   "execution_count": 11,
   "metadata": {},
   "outputs": [],
   "source": [
    "mydict = {'air_conditioner':0, 'car_horn':1, 'children_playing':2, 'dog_bark':3,\n",
    "       'drilling':4, 'engine_idling':5, 'gun_shot':6, 'jackhammer':7, 'siren':8,\n",
    "       'street_music':9}\n",
    "import librosa\n",
    "audio_file_path=\"D:\\\\shravanne-tasks\\\\Datasets\\\\UrbanSound8K\\\\audio\\\\fold6\\\\24364-4-0-11.wav\"\n",
    "librosa_audio_data,librosa_sample_rate=librosa.load(audio_file_path)\n",
    "mfccs = np.mean(librosa.feature.mfcc(y=librosa_audio_data, sr=librosa_sample_rate, n_mfcc=40).T,axis=0)\n",
    "x=[]\n",
    "x.append(mfccs)\n",
    "x=np.array(x)\n",
    "x=np.reshape(x,(x.shape[0],10,4,1))\n"
   ]
  },
  {
   "cell_type": "markdown",
   "metadata": {},
   "source": [
    "# PREDICT USING REGULAR KERAS TRAINED MODEL FILE (h5). \n"
   ]
  },
  {
   "cell_type": "code",
   "execution_count": 12,
   "metadata": {},
   "outputs": [
    {
     "name": "stdout",
     "output_type": "stream",
     "text": [
      "Keras Model size is:  0.852630615234375 MB\n",
      "1/1 [==============================] - 0s 163ms/step\n",
      "Total prediction time for keras model is:  0.2540559768676758\n",
      "Total prediction time for keras model is:  drilling\n"
     ]
    }
   ],
   "source": [
    "\n",
    "keras_model_size = os.path.getsize(\"D:\\\\shravanne-tasks\\\\Urbansound 8k\\\\model.h5\")/1048576  #Convert to MB\n",
    "print(\"Keras Model size is: \", keras_model_size, \"MB\")\n",
    "#Using regular keral model\n",
    "model = tf.keras.models.load_model(\"D:\\\\shravanne-tasks\\\\Urbansound 8k\\\\model.h5\")\n",
    "\n",
    "time_before=time()\n",
    "keras_prediction = model.predict(x)\n",
    "time_after=time()\n",
    "keras_prediction= np.round_(keras_prediction)\n",
    "a,b=np.where(keras_prediction==1)\n",
    "\n",
    "total_keras_time = time_after - time_before\n",
    "print(\"Total prediction time for keras model is: \", total_keras_time)\n",
    "for gerne, classs in mydict.items(): \n",
    "    if classs == b[0]:\n",
    "        print(\"Total prediction time for keras model is: \",gerne)\n"
   ]
  },
  {
   "cell_type": "markdown",
   "metadata": {},
   "source": [
    "# PREDICT USING tflite \n"
   ]
  },
  {
   "cell_type": "code",
   "execution_count": 13,
   "metadata": {},
   "outputs": [
    {
     "name": "stdout",
     "output_type": "stream",
     "text": [
      "tflite Model without opt. size is:  0.27533721923828125 MB\n"
     ]
    }
   ],
   "source": [
    "\n",
    "tflite_size = os.path.getsize(\"D:\\\\shravanne-tasks\\\\Urbansound 8k\\\\model.tflite\")/1048576  #Convert to MB\n",
    "print(\"tflite Model without opt. size is: \", tflite_size, \"MB\")\n",
    "#Not optimized (file size = 540MB). Taking about 0.5 seconds for inference\n",
    "tflite_model_path = \"D:\\\\shravanne-tasks\\\\Urbansound 8k\\\\model.tflite\"\n",
    "\n",
    "# Load the TFLite model and allocate tensors.\n",
    "interpreter = tf.lite.Interpreter(model_path=tflite_model_path)\n",
    "interpreter.allocate_tensors()\n"
   ]
  },
  {
   "cell_type": "code",
   "execution_count": 14,
   "metadata": {},
   "outputs": [],
   "source": [
    "# Get input and output tensors.\n",
    "input_details = interpreter.get_input_details()\n",
    "output_details = interpreter.get_output_details()"
   ]
  },
  {
   "cell_type": "code",
   "execution_count": 15,
   "metadata": {},
   "outputs": [
    {
     "name": "stdout",
     "output_type": "stream",
     "text": [
      "[ 1 10  4  1]\n"
     ]
    }
   ],
   "source": [
    "# Test the model on input data.\n",
    "input_shape = input_details[0]['shape']\n",
    "print(input_shape)\n"
   ]
  },
  {
   "cell_type": "code",
   "execution_count": 16,
   "metadata": {},
   "outputs": [
    {
     "name": "stdout",
     "output_type": "stream",
     "text": [
      "[ 1 10]\n"
     ]
    }
   ],
   "source": [
    "output_shape = output_details[0]['shape']\n",
    "print(output_shape)"
   ]
  },
  {
   "cell_type": "code",
   "execution_count": 17,
   "metadata": {},
   "outputs": [
    {
     "name": "stdout",
     "output_type": "stream",
     "text": [
      "Total prediction time for tflite without opt model is:  0.0\n",
      "The tflite w/o opt prediction for this image is:  [[2.6501674e-33 7.2916050e-17 1.9970786e-02 3.2749251e-06 9.8002601e-01\n",
      "  8.1525699e-26 3.1213114e-20 1.3248617e-28 2.1428034e-23 2.4167195e-16]]\n",
      "\n",
      "Total prediction time for keras model is:  drilling\n"
     ]
    }
   ],
   "source": [
    "# Load image\n",
    "input_data = x\n",
    "\n",
    "interpreter.set_tensor(input_details[0]['index'], input_data)\n",
    "\n",
    "time_before=time()\n",
    "interpreter.invoke()\n",
    "time_after=time()\n",
    "total_tflite_time = time_after - time_before\n",
    "print(\"Total prediction time for tflite without opt model is: \", total_tflite_time)\n",
    "\n",
    "output_data_tflite = interpreter.get_tensor(output_details[0]['index'])\n",
    "print(\"The tflite w/o opt prediction for this image is: \", output_data_tflite)\n",
    "output_data_tflite=np.round_(output_data_tflite)\n",
    "a,b=np.where(output_data_tflite==1)\n",
    "for gerne, classs in mydict.items(): \n",
    "    if classs == b[0]:\n",
    "        print(\"\\nTotal prediction time for keras model is: \",gerne)\n"
   ]
  },
  {
   "cell_type": "code",
   "execution_count": null,
   "metadata": {},
   "outputs": [],
   "source": []
  }
 ],
 "metadata": {
  "kernelspec": {
   "display_name": "Python 3",
   "language": "python",
   "name": "python3"
  },
  "language_info": {
   "codemirror_mode": {
    "name": "ipython",
    "version": 3
   },
   "file_extension": ".py",
   "mimetype": "text/x-python",
   "name": "python",
   "nbconvert_exporter": "python",
   "pygments_lexer": "ipython3",
   "version": "3.8.5"
  }
 },
 "nbformat": 4,
 "nbformat_minor": 4
}
